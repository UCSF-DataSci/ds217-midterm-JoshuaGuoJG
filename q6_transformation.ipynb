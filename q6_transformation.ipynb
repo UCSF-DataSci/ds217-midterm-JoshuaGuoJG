{
 "cells": [
  {
   "cell_type": "markdown",
   "metadata": {},
   "source": [
    "# Assignment 5, Question 6: Data Transformation\n",
    "\n",
    "**Points: 20**\n",
    "\n",
    "Transform and engineer features from the clinical trial dataset."
   ]
  },
  {
   "cell_type": "markdown",
   "metadata": {},
   "source": [
    "## Setup"
   ]
  },
  {
   "cell_type": "code",
   "execution_count": 133,
   "metadata": {},
   "outputs": [
    {
     "name": "stdout",
     "output_type": "stream",
     "text": [
      "Loaded 10000 patients\n"
     ]
    }
   ],
   "source": [
    "import pandas as pd\n",
    "import numpy as np\n",
    "import matplotlib.pyplot as plt\n",
    "\n",
    "# Import utilities\n",
    "from q3_data_utils import load_data, clean_data, transform_types, create_bins, fill_missing\n",
    "\n",
    "df = load_data('data/clinical_trial_raw.csv')\n",
    "#df = load_data('output/q5_cleaned_data.csv')\n",
    "print(f\"Loaded {len(df)} patients\")\n",
    "\n",
    "# Prewritten visualization functions for transformation analysis\n",
    "def plot_distribution(series, title, figsize=(10, 6)):\n",
    "    \"\"\"\n",
    "    Create a histogram of a numeric series.\n",
    "    \n",
    "    Args:\n",
    "        series: pandas Series with numeric data\n",
    "        title: Chart title\n",
    "        figsize: Figure size tuple\n",
    "    \"\"\"\n",
    "    plt.figure(figsize=figsize)\n",
    "    series.hist(bins=30)\n",
    "    plt.title(title)\n",
    "    plt.xlabel('Value')\n",
    "    plt.ylabel('Frequency')\n",
    "    plt.tight_layout()\n",
    "    plt.show()\n",
    "\n",
    "def plot_value_counts(series, title, figsize=(10, 6)):\n",
    "    \"\"\"\n",
    "    Create a bar chart of value counts.\n",
    "    \n",
    "    Args:\n",
    "        series: pandas Series with value counts\n",
    "        title: Chart title\n",
    "        figsize: Figure size tuple\n",
    "    \"\"\"\n",
    "    plt.figure(figsize=figsize)\n",
    "    series.plot(kind='bar')\n",
    "    plt.title(title)\n",
    "    plt.xticks(rotation=45)\n",
    "    plt.tight_layout()\n",
    "    plt.show()\n"
   ]
  },
  {
   "cell_type": "markdown",
   "metadata": {},
   "source": [
    "## Part 1: Type Conversions (5 points)\n",
    "\n",
    "1. Convert 'enrollment_date' to datetime using the `transform_types()` utility\n",
    "2. Convert categorical columns ('site', 'intervention_group', 'sex') to category dtype\n",
    "3. Ensure all numeric columns are proper numeric types\n",
    "4. Display the updated dtypes"
   ]
  },
  {
   "cell_type": "code",
   "execution_count": 134,
   "metadata": {},
   "outputs": [
    {
     "data": {
      "text/plain": [
       "patient_id                    object\n",
       "age                            int64\n",
       "sex                         category\n",
       "bmi                          float64\n",
       "enrollment_date       datetime64[ns]\n",
       "systolic_bp                  float64\n",
       "diastolic_bp                 float64\n",
       "cholesterol_total            float64\n",
       "cholesterol_hdl              float64\n",
       "cholesterol_ldl              float64\n",
       "glucose_fasting              float64\n",
       "site                        category\n",
       "intervention_group          category\n",
       "follow_up_months               int64\n",
       "adverse_events                 int64\n",
       "outcome_cvd                   object\n",
       "adherence_pct                float64\n",
       "dropout                       object\n",
       "dtype: object"
      ]
     },
     "execution_count": 134,
     "metadata": {},
     "output_type": "execute_result"
    }
   ],
   "source": [
    "# TODO: Type conversions\n",
    "# 1. Use transform_types() to convert enrollment_date to datetime\n",
    "# 2. Convert categorical columns ('site', 'intervention_group', 'sex') to category dtype\n",
    "# 3. Ensure all numeric columns are proper numeric types\n",
    "# 4. Display the updated dtypes using df.dtypes\n",
    "type_map = {'enrollment_date': 'datetime'}\n",
    "df = transform_types(df, type_map)\n",
    "type_map = {'site': 'category', 'intervention_group': 'category', 'sex': 'category'}\n",
    "df = transform_types(df, type_map)\n",
    "\n",
    "numeric_cols = df.select_dtypes(include=['float64', 'int64']).columns\n",
    "for col in numeric_cols:\n",
    "    df[col] = pd.to_numeric(df[col], errors='coerce')\n",
    "\n",
    "df.dtypes"
   ]
  },
  {
   "cell_type": "markdown",
   "metadata": {},
   "source": [
    "## Part 2: Feature Engineering (8 points)\n",
    "\n",
    "Create these new calculated columns:\n",
    "\n",
    "1. `cholesterol_ratio` = cholesterol_ldl / cholesterol_hdl\n",
    "2. `bp_category` = categorize systolic BP:\n",
    "   - 'Normal': < 120\n",
    "   - 'Elevated': 120-129\n",
    "   - 'High': >= 130\n",
    "3. `age_group` using `create_bins()` utility:\n",
    "   - Bins: [0, 40, 55, 70, 100]\n",
    "   - Labels: ['<40', '40-54', '55-69', '70+']\n",
    "4. `bmi_category` using standard BMI categories:\n",
    "   - Underweight: <18.5\n",
    "   - Normal: 18.5-24.9\n",
    "   - Overweight: 25-29.9\n",
    "   - Obese: >=30"
   ]
  },
  {
   "cell_type": "code",
   "execution_count": 135,
   "metadata": {},
   "outputs": [],
   "source": [
    "# TODO: Calculate cholesterol ratio\n",
    "df['cholesterol_ratio'] = df['cholesterol_total'] / df['cholesterol_hdl']"
   ]
  },
  {
   "cell_type": "code",
   "execution_count": 136,
   "metadata": {},
   "outputs": [],
   "source": [
    "# TODO: Categorize blood pressure\n",
    "df['bp_category'] = pd.cut(df['systolic_bp'], \n",
    "                           bins=[0, 120, 129, float('inf')], \n",
    "                           labels=['Normal', 'Elevated', 'High'])"
   ]
  },
  {
   "cell_type": "markdown",
   "metadata": {},
   "source": [
    "**Note:** The `create_bins()` function has an optional `new_column` parameter. If you don't specify it, the new column will be named `{original_column}_binned`. You can use `new_column='age_group'` to give it a custom name.\n"
   ]
  },
  {
   "cell_type": "code",
   "execution_count": 137,
   "metadata": {},
   "outputs": [],
   "source": [
    "# TODO: Create age groups\n",
    "df = create_bins(df,\n",
    "                 column='age',\n",
    "                 bins=[0, 40, 55, 70, 100],\n",
    "                 labels=['<40', '40-54', '55-69', '70+'],\n",
    "                 new_column='age_group')"
   ]
  },
  {
   "cell_type": "code",
   "execution_count": 138,
   "metadata": {},
   "outputs": [],
   "source": [
    "# TODO: Create BMI categories\n",
    "df['bmi_category'] = pd.cut(df['bmi'],\n",
    "                            bins=[0, 18.5, 24.9, 29.9, float('inf')], \n",
    "                            labels=['Underweight', 'Normal', 'Overweight', 'Obese'])"
   ]
  },
  {
   "cell_type": "markdown",
   "metadata": {},
   "source": [
    "## Part 3: String Cleaning (2 points)\n",
    "\n",
    "If there are any string columns that need cleaning:\n",
    "1. Convert to lowercase\n",
    "2. Strip whitespace\n",
    "3. Replace any placeholder values"
   ]
  },
  {
   "cell_type": "code",
   "execution_count": 139,
   "metadata": {},
   "outputs": [],
   "source": [
    "# TODO: String cleaning\n",
    "df['outcome_cvd'] = df['outcome_cvd'].str.strip().str.lower()\n",
    "df['outcome_cvd'].unique()\n",
    "\n",
    "df['site'] = df['site'].str.lower().str.strip()\n",
    "df['site'] = df['site'].replace({'site  a': 'site a', 'site_d': 'site d'})\n",
    "\n",
    "df['intervention_group'] = df['intervention_group'].str.lower().str.strip()\n",
    "df['intervention_group'] = df['intervention_group'].replace({'contrl': 'control'})\n",
    "df['intervention_group'] = df['intervention_group'].replace(['treatmen a', 'treatmenta'], 'treatment a')\n",
    "df['intervention_group'] = df['intervention_group'].replace({'treatment  b': 'treatment b'})\n",
    "\n",
    "df['sex'] = df['sex'].str.lower().str.strip()\n",
    "df['sex'] = df['sex'].replace({'m':'male', 'f':'female'})"
   ]
  },
  {
   "cell_type": "markdown",
   "metadata": {},
   "source": [
    "## Part 4: One-Hot Encoding (5 points)\n",
    "\n",
    "Create dummy variables for categorical columns:\n",
    "1. One-hot encode 'intervention_group' using `pd.get_dummies()`\n",
    "2. One-hot encode 'site'\n",
    "3. Drop the original categorical columns\n",
    "4. Show the new shape and column names"
   ]
  },
  {
   "cell_type": "code",
   "execution_count": 140,
   "metadata": {},
   "outputs": [
    {
     "name": "stdout",
     "output_type": "stream",
     "text": [
      "Index(['patient_id', 'age', 'sex', 'bmi', 'enrollment_date', 'systolic_bp',\n",
      "       'diastolic_bp', 'cholesterol_total', 'cholesterol_hdl',\n",
      "       'cholesterol_ldl', 'glucose_fasting', 'follow_up_months',\n",
      "       'adverse_events', 'outcome_cvd', 'adherence_pct', 'dropout',\n",
      "       'cholesterol_ratio', 'bp_category', 'age_group', 'bmi_category',\n",
      "       'intervention_group_control', 'intervention_group_treatment a',\n",
      "       'intervention_group_treatment b', 'site_site a', 'site_site b',\n",
      "       'site_site c', 'site_site d', 'site_site e'],\n",
      "      dtype='object') (10000, 28)\n"
     ]
    }
   ],
   "source": [
    "# TODO: One-hot encoding\n",
    "group_dummies = pd.get_dummies(df['intervention_group'], prefix='intervention_group', dtype='int64')\n",
    "site_dummies = pd.get_dummies(df['site'], prefix='site', dtype='int64')\n",
    "df_transformed = pd.concat([df, group_dummies, site_dummies], axis=1)\n",
    "df_transformed.drop(['intervention_group', 'site'], axis=1, inplace=True)\n",
    "print(df_transformed.columns, df_transformed.shape)"
   ]
  },
  {
   "cell_type": "markdown",
   "metadata": {},
   "source": [
    "## Part 5: Save Transformed Data\n",
    "\n",
    "Save the fully transformed dataset to `output/q6_transformed_data.csv`"
   ]
  },
  {
   "cell_type": "code",
   "execution_count": 141,
   "metadata": {},
   "outputs": [],
   "source": [
    "# TODO: Save transformed data\n",
    "# df_transformed.to_csv('output/q6_transformed_data.csv', index=False)\n",
    "df_transformed.to_csv('output/q6_transformed_data.csv', index=False)"
   ]
  }
 ],
 "metadata": {
  "kernelspec": {
   "display_name": "mt (3.13.7)",
   "language": "python",
   "name": "python3"
  },
  "language_info": {
   "codemirror_mode": {
    "name": "ipython",
    "version": 3
   },
   "file_extension": ".py",
   "mimetype": "text/x-python",
   "name": "python",
   "nbconvert_exporter": "python",
   "pygments_lexer": "ipython3",
   "version": "3.13.7"
  }
 },
 "nbformat": 4,
 "nbformat_minor": 2
}
