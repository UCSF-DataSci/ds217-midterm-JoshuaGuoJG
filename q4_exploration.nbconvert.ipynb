{
 "cells": [
  {
   "cell_type": "markdown",
   "metadata": {},
   "source": [
    "# Assignment 5, Question 4: Data Exploration\n",
    "\n",
    "**Points: 15**\n",
    "\n",
    "In this notebook, you'll explore the clinical trial dataset using pandas selection and filtering techniques.\n",
    "\n",
    "You'll use utility functions from `q3_data_utils` where helpful, but also demonstrate direct pandas operations."
   ]
  },
  {
   "cell_type": "markdown",
   "metadata": {},
   "source": [
    "## Setup"
   ]
  },
  {
   "cell_type": "code",
   "execution_count": 1,
   "metadata": {
    "execution": {
     "iopub.execute_input": "2025-10-28T02:02:28.324424Z",
     "iopub.status.busy": "2025-10-28T02:02:28.324322Z",
     "iopub.status.idle": "2025-10-28T02:02:28.755864Z",
     "shell.execute_reply": "2025-10-28T02:02:28.755430Z"
    }
   },
   "outputs": [
    {
     "name": "stdout",
     "output_type": "stream",
     "text": [
      "Loaded 10000 patients with 18 variables\n"
     ]
    }
   ],
   "source": [
    "import pandas as pd\n",
    "import numpy as np\n",
    "import matplotlib.pyplot as plt\n",
    "\n",
    "# Import utilities from Q3\n",
    "from q3_data_utils import load_data, detect_missing, filter_data\n",
    "\n",
    "# Load the data\n",
    "df = load_data('data/clinical_trial_raw.csv')\n",
    "print(f\"Loaded {len(df)} patients with {len(df.columns)} variables\")\n",
    "\n",
    "# Prewritten visualization functions for exploration\n",
    "def plot_value_counts(series, title, figsize=(10, 6)):\n",
    "    \"\"\"\n",
    "    Create a bar chart of value counts.\n",
    "    \n",
    "    Args:\n",
    "        series: pandas Series with value counts\n",
    "        title: Chart title\n",
    "        figsize: Figure size tuple\n",
    "    \"\"\"\n",
    "    plt.figure(figsize=figsize)\n",
    "    series.plot(kind='bar')\n",
    "    plt.title(title)\n",
    "    plt.xticks(rotation=45)\n",
    "    plt.tight_layout()\n",
    "    plt.show()\n",
    "\n",
    "def plot_crosstab(crosstab_data, title, figsize=(10, 6)):\n",
    "    \"\"\"\n",
    "    Create a heatmap of crosstab data.\n",
    "    \n",
    "    Args:\n",
    "        crosstab_data: pandas DataFrame from pd.crosstab()\n",
    "        title: Chart title\n",
    "        figsize: Figure size tuple\n",
    "    \"\"\"\n",
    "    plt.figure(figsize=figsize)\n",
    "    plt.imshow(crosstab_data.values, cmap='Blues', aspect='auto')\n",
    "    plt.colorbar()\n",
    "    plt.title(title)\n",
    "    plt.xticks(range(len(crosstab_data.columns)), crosstab_data.columns, rotation=45)\n",
    "    plt.yticks(range(len(crosstab_data.index)), crosstab_data.index)\n",
    "    plt.tight_layout()\n",
    "    plt.show()"
   ]
  },
  {
   "cell_type": "markdown",
   "metadata": {},
   "source": [
    "## Part 1: Basic Exploration (3 points)\n",
    "\n",
    "Display:\n",
    "1. Dataset shape\n",
    "2. Column names and types\n",
    "3. First 10 rows\n",
    "4. Summary statistics (.describe())"
   ]
  },
  {
   "cell_type": "code",
   "execution_count": 2,
   "metadata": {
    "execution": {
     "iopub.execute_input": "2025-10-28T02:02:28.775845Z",
     "iopub.status.busy": "2025-10-28T02:02:28.775694Z",
     "iopub.status.idle": "2025-10-28T02:02:28.782304Z",
     "shell.execute_reply": "2025-10-28T02:02:28.781695Z"
    }
   },
   "outputs": [
    {
     "name": "stdout",
     "output_type": "stream",
     "text": [
      "Dataset Information:\n",
      "<class 'pandas.core.frame.DataFrame'>\n",
      "RangeIndex: 10000 entries, 0 to 9999\n",
      "Data columns (total 18 columns):\n",
      " #   Column              Non-Null Count  Dtype  \n",
      "---  ------              --------------  -----  \n",
      " 0   patient_id          10000 non-null  object \n",
      " 1   age                 10000 non-null  int64  \n",
      " 2   sex                 10000 non-null  object \n",
      " 3   bmi                 9562 non-null   float64\n",
      " 4   enrollment_date     10000 non-null  object \n",
      " 5   systolic_bp         9586 non-null   float64\n",
      " 6   diastolic_bp        9586 non-null   float64\n",
      " 7   cholesterol_total   9446 non-null   float64\n",
      " 8   cholesterol_hdl     9446 non-null   float64\n",
      " 9   cholesterol_ldl     9446 non-null   float64\n",
      " 10  glucose_fasting     9631 non-null   float64\n",
      " 11  site                10000 non-null  object \n",
      " 12  intervention_group  10000 non-null  object \n",
      " 13  follow_up_months    10000 non-null  int64  \n",
      " 14  adverse_events      10000 non-null  int64  \n",
      " 15  outcome_cvd         10000 non-null  object \n",
      " 16  adherence_pct       8533 non-null   float64\n",
      " 17  dropout             10000 non-null  object \n",
      "dtypes: float64(8), int64(3), object(7)\n",
      "memory usage: 1.4+ MB\n",
      "None\n"
     ]
    }
   ],
   "source": [
    "# TODO: Display dataset info\n",
    "print(\"Dataset Information:\")\n",
    "print(df.info())"
   ]
  },
  {
   "cell_type": "markdown",
   "metadata": {},
   "source": [
    "## Part 2: Column Selection (3 points)\n",
    "\n",
    "Demonstrate different selection methods:\n",
    "\n",
    "1. Select only numeric columns using `.select_dtypes()`\n",
    "2. Select specific columns by name\n",
    "3. Select a subset of rows and columns using `.loc[]`"
   ]
  },
  {
   "cell_type": "code",
   "execution_count": 3,
   "metadata": {
    "execution": {
     "iopub.execute_input": "2025-10-28T02:02:28.784237Z",
     "iopub.status.busy": "2025-10-28T02:02:28.784074Z",
     "iopub.status.idle": "2025-10-28T02:02:28.793033Z",
     "shell.execute_reply": "2025-10-28T02:02:28.792615Z"
    }
   },
   "outputs": [
    {
     "data": {
      "text/html": [
       "<div>\n",
       "<style scoped>\n",
       "    .dataframe tbody tr th:only-of-type {\n",
       "        vertical-align: middle;\n",
       "    }\n",
       "\n",
       "    .dataframe tbody tr th {\n",
       "        vertical-align: top;\n",
       "    }\n",
       "\n",
       "    .dataframe thead th {\n",
       "        text-align: right;\n",
       "    }\n",
       "</style>\n",
       "<table border=\"1\" class=\"dataframe\">\n",
       "  <thead>\n",
       "    <tr style=\"text-align: right;\">\n",
       "      <th></th>\n",
       "      <th>age</th>\n",
       "      <th>bmi</th>\n",
       "      <th>systolic_bp</th>\n",
       "      <th>diastolic_bp</th>\n",
       "      <th>cholesterol_total</th>\n",
       "      <th>cholesterol_hdl</th>\n",
       "      <th>cholesterol_ldl</th>\n",
       "      <th>glucose_fasting</th>\n",
       "      <th>follow_up_months</th>\n",
       "      <th>adverse_events</th>\n",
       "      <th>adherence_pct</th>\n",
       "    </tr>\n",
       "  </thead>\n",
       "  <tbody>\n",
       "    <tr>\n",
       "      <th>0</th>\n",
       "      <td>80</td>\n",
       "      <td>29.3</td>\n",
       "      <td>123.0</td>\n",
       "      <td>80.0</td>\n",
       "      <td>120.0</td>\n",
       "      <td>55.0</td>\n",
       "      <td>41.0</td>\n",
       "      <td>118.0</td>\n",
       "      <td>20</td>\n",
       "      <td>0</td>\n",
       "      <td>24.0</td>\n",
       "    </tr>\n",
       "    <tr>\n",
       "      <th>1</th>\n",
       "      <td>80</td>\n",
       "      <td>NaN</td>\n",
       "      <td>139.0</td>\n",
       "      <td>81.0</td>\n",
       "      <td>206.0</td>\n",
       "      <td>58.0</td>\n",
       "      <td>107.0</td>\n",
       "      <td>79.0</td>\n",
       "      <td>24</td>\n",
       "      <td>0</td>\n",
       "      <td>77.0</td>\n",
       "    </tr>\n",
       "    <tr>\n",
       "      <th>2</th>\n",
       "      <td>82</td>\n",
       "      <td>-1.0</td>\n",
       "      <td>123.0</td>\n",
       "      <td>86.0</td>\n",
       "      <td>172.0</td>\n",
       "      <td>56.0</td>\n",
       "      <td>82.0</td>\n",
       "      <td>77.0</td>\n",
       "      <td>2</td>\n",
       "      <td>0</td>\n",
       "      <td>70.0</td>\n",
       "    </tr>\n",
       "    <tr>\n",
       "      <th>3</th>\n",
       "      <td>95</td>\n",
       "      <td>25.4</td>\n",
       "      <td>116.0</td>\n",
       "      <td>77.0</td>\n",
       "      <td>200.0</td>\n",
       "      <td>56.0</td>\n",
       "      <td>104.0</td>\n",
       "      <td>115.0</td>\n",
       "      <td>17</td>\n",
       "      <td>0</td>\n",
       "      <td>62.0</td>\n",
       "    </tr>\n",
       "    <tr>\n",
       "      <th>4</th>\n",
       "      <td>95</td>\n",
       "      <td>NaN</td>\n",
       "      <td>97.0</td>\n",
       "      <td>71.0</td>\n",
       "      <td>185.0</td>\n",
       "      <td>78.0</td>\n",
       "      <td>75.0</td>\n",
       "      <td>113.0</td>\n",
       "      <td>9</td>\n",
       "      <td>0</td>\n",
       "      <td>NaN</td>\n",
       "    </tr>\n",
       "    <tr>\n",
       "      <th>...</th>\n",
       "      <td>...</td>\n",
       "      <td>...</td>\n",
       "      <td>...</td>\n",
       "      <td>...</td>\n",
       "      <td>...</td>\n",
       "      <td>...</td>\n",
       "      <td>...</td>\n",
       "      <td>...</td>\n",
       "      <td>...</td>\n",
       "      <td>...</td>\n",
       "      <td>...</td>\n",
       "    </tr>\n",
       "    <tr>\n",
       "      <th>9995</th>\n",
       "      <td>72</td>\n",
       "      <td>23.2</td>\n",
       "      <td>122.0</td>\n",
       "      <td>73.0</td>\n",
       "      <td>182.0</td>\n",
       "      <td>54.0</td>\n",
       "      <td>92.0</td>\n",
       "      <td>97.0</td>\n",
       "      <td>21</td>\n",
       "      <td>0</td>\n",
       "      <td>20.0</td>\n",
       "    </tr>\n",
       "    <tr>\n",
       "      <th>9996</th>\n",
       "      <td>100</td>\n",
       "      <td>28.9</td>\n",
       "      <td>124.0</td>\n",
       "      <td>78.0</td>\n",
       "      <td>157.0</td>\n",
       "      <td>56.0</td>\n",
       "      <td>70.0</td>\n",
       "      <td>102.0</td>\n",
       "      <td>11</td>\n",
       "      <td>0</td>\n",
       "      <td>57.0</td>\n",
       "    </tr>\n",
       "    <tr>\n",
       "      <th>9997</th>\n",
       "      <td>78</td>\n",
       "      <td>23.8</td>\n",
       "      <td>110.0</td>\n",
       "      <td>63.0</td>\n",
       "      <td>154.0</td>\n",
       "      <td>69.0</td>\n",
       "      <td>71.0</td>\n",
       "      <td>114.0</td>\n",
       "      <td>2</td>\n",
       "      <td>1</td>\n",
       "      <td>77.0</td>\n",
       "    </tr>\n",
       "    <tr>\n",
       "      <th>9998</th>\n",
       "      <td>86</td>\n",
       "      <td>27.0</td>\n",
       "      <td>139.0</td>\n",
       "      <td>98.0</td>\n",
       "      <td>196.0</td>\n",
       "      <td>38.0</td>\n",
       "      <td>119.0</td>\n",
       "      <td>126.0</td>\n",
       "      <td>16</td>\n",
       "      <td>0</td>\n",
       "      <td>63.0</td>\n",
       "    </tr>\n",
       "    <tr>\n",
       "      <th>9999</th>\n",
       "      <td>67</td>\n",
       "      <td>29.4</td>\n",
       "      <td>134.0</td>\n",
       "      <td>83.0</td>\n",
       "      <td>197.0</td>\n",
       "      <td>51.0</td>\n",
       "      <td>117.0</td>\n",
       "      <td>128.0</td>\n",
       "      <td>22</td>\n",
       "      <td>0</td>\n",
       "      <td>48.0</td>\n",
       "    </tr>\n",
       "  </tbody>\n",
       "</table>\n",
       "<p>10000 rows × 11 columns</p>\n",
       "</div>"
      ],
      "text/plain": [
       "      age   bmi  systolic_bp  diastolic_bp  cholesterol_total  \\\n",
       "0      80  29.3        123.0          80.0              120.0   \n",
       "1      80   NaN        139.0          81.0              206.0   \n",
       "2      82  -1.0        123.0          86.0              172.0   \n",
       "3      95  25.4        116.0          77.0              200.0   \n",
       "4      95   NaN         97.0          71.0              185.0   \n",
       "...   ...   ...          ...           ...                ...   \n",
       "9995   72  23.2        122.0          73.0              182.0   \n",
       "9996  100  28.9        124.0          78.0              157.0   \n",
       "9997   78  23.8        110.0          63.0              154.0   \n",
       "9998   86  27.0        139.0          98.0              196.0   \n",
       "9999   67  29.4        134.0          83.0              197.0   \n",
       "\n",
       "      cholesterol_hdl  cholesterol_ldl  glucose_fasting  follow_up_months  \\\n",
       "0                55.0             41.0            118.0                20   \n",
       "1                58.0            107.0             79.0                24   \n",
       "2                56.0             82.0             77.0                 2   \n",
       "3                56.0            104.0            115.0                17   \n",
       "4                78.0             75.0            113.0                 9   \n",
       "...               ...              ...              ...               ...   \n",
       "9995             54.0             92.0             97.0                21   \n",
       "9996             56.0             70.0            102.0                11   \n",
       "9997             69.0             71.0            114.0                 2   \n",
       "9998             38.0            119.0            126.0                16   \n",
       "9999             51.0            117.0            128.0                22   \n",
       "\n",
       "      adverse_events  adherence_pct  \n",
       "0                  0           24.0  \n",
       "1                  0           77.0  \n",
       "2                  0           70.0  \n",
       "3                  0           62.0  \n",
       "4                  0            NaN  \n",
       "...              ...            ...  \n",
       "9995               0           20.0  \n",
       "9996               0           57.0  \n",
       "9997               1           77.0  \n",
       "9998               0           63.0  \n",
       "9999               0           48.0  \n",
       "\n",
       "[10000 rows x 11 columns]"
      ]
     },
     "execution_count": 3,
     "metadata": {},
     "output_type": "execute_result"
    }
   ],
   "source": [
    "# TODO: Select numeric columns\n",
    "df.select_dtypes(include=['number'])"
   ]
  },
  {
   "cell_type": "code",
   "execution_count": 4,
   "metadata": {
    "execution": {
     "iopub.execute_input": "2025-10-28T02:02:28.794295Z",
     "iopub.status.busy": "2025-10-28T02:02:28.794210Z",
     "iopub.status.idle": "2025-10-28T02:02:28.797042Z",
     "shell.execute_reply": "2025-10-28T02:02:28.796690Z"
    }
   },
   "outputs": [
    {
     "data": {
      "text/plain": [
       "0       P00001\n",
       "1       P00002\n",
       "2       P00003\n",
       "3       P00004\n",
       "4       P00005\n",
       "         ...  \n",
       "9995    P09996\n",
       "9996    P09997\n",
       "9997    P09998\n",
       "9998    P09999\n",
       "9999    P10000\n",
       "Name: patient_id, Length: 10000, dtype: object"
      ]
     },
     "execution_count": 4,
     "metadata": {},
     "output_type": "execute_result"
    }
   ],
   "source": [
    "# TODO: Select specific columns\n",
    "df['patient_id']"
   ]
  },
  {
   "cell_type": "code",
   "execution_count": 5,
   "metadata": {
    "execution": {
     "iopub.execute_input": "2025-10-28T02:02:28.798133Z",
     "iopub.status.busy": "2025-10-28T02:02:28.798060Z",
     "iopub.status.idle": "2025-10-28T02:02:28.800651Z",
     "shell.execute_reply": "2025-10-28T02:02:28.800314Z"
    }
   },
   "outputs": [
    {
     "data": {
      "text/plain": [
       "age    82\n",
       "Name: 2, dtype: object"
      ]
     },
     "execution_count": 5,
     "metadata": {},
     "output_type": "execute_result"
    }
   ],
   "source": [
    "# TODO: Use .loc[] to select subset\n",
    "df.loc[2, ['age']]"
   ]
  },
  {
   "cell_type": "markdown",
   "metadata": {},
   "source": [
    "## Part 3: Filtering (4 points)\n",
    "\n",
    "Filter the data to answer these questions:\n",
    "\n",
    "1. How many patients are over 65 years old?\n",
    "2. How many patients have systolic BP > 140?\n",
    "3. Find patients who are both over 65 AND have systolic BP > 140\n",
    "4. Find patients from Site A or Site B using `.isin()`"
   ]
  },
  {
   "cell_type": "code",
   "execution_count": 6,
   "metadata": {
    "execution": {
     "iopub.execute_input": "2025-10-28T02:02:28.801946Z",
     "iopub.status.busy": "2025-10-28T02:02:28.801858Z",
     "iopub.status.idle": "2025-10-28T02:02:28.805236Z",
     "shell.execute_reply": "2025-10-28T02:02:28.804773Z"
    }
   },
   "outputs": [
    {
     "name": "stdout",
     "output_type": "stream",
     "text": [
      "Patients over 65: 8326\n"
     ]
    }
   ],
   "source": [
    "# TODO: Filter and count patients over 65\n",
    "# 1. Use the filter_data utility from Q3\n",
    "# 2. Create a filter for age > 65\n",
    "# 3. Apply the filter and count the results\n",
    "# print(f\"Patients over 65: {len(patients_over_65)}\")\n",
    "filters = [{'column': 'age', 'condition': 'greater_than', 'value': 65}]\n",
    "patients_over_65 = filter_data(df, filters)\n",
    "print(f\"Patients over 65: {len(patients_over_65)}\")"
   ]
  },
  {
   "cell_type": "code",
   "execution_count": 7,
   "metadata": {
    "execution": {
     "iopub.execute_input": "2025-10-28T02:02:28.806686Z",
     "iopub.status.busy": "2025-10-28T02:02:28.806575Z",
     "iopub.status.idle": "2025-10-28T02:02:28.809766Z",
     "shell.execute_reply": "2025-10-28T02:02:28.809090Z"
    }
   },
   "outputs": [
    {
     "name": "stdout",
     "output_type": "stream",
     "text": [
      "Patients with high BP: 538\n"
     ]
    }
   ],
   "source": [
    "# TODO: Filter for high BP\n",
    "# 1. Use the filter_data utility from Q3\n",
    "# 2. Create a filter for systolic_bp > 140\n",
    "# 3. Apply the filter and count the results\n",
    "# print(f\"Patients with high BP: {len(high_bp)}\")\n",
    "filters = [{'column': 'systolic_bp', 'condition': 'greater_than', 'value': 140}]\n",
    "high_bp = filter_data(df, filters)\n",
    "print(f\"Patients with high BP: {len(high_bp)}\")"
   ]
  },
  {
   "cell_type": "code",
   "execution_count": 8,
   "metadata": {
    "execution": {
     "iopub.execute_input": "2025-10-28T02:02:28.811297Z",
     "iopub.status.busy": "2025-10-28T02:02:28.811207Z",
     "iopub.status.idle": "2025-10-28T02:02:28.813921Z",
     "shell.execute_reply": "2025-10-28T02:02:28.813500Z"
    }
   },
   "outputs": [
    {
     "name": "stdout",
     "output_type": "stream",
     "text": [
      "Patients over 65 AND high BP: 472\n"
     ]
    }
   ],
   "source": [
    "# TODO: Multiple conditions with &\n",
    "# 1. Use filter_data for multiple conditions:\n",
    "# 2. Create filters for both conditions:\n",
    "#     {'column': 'age', 'condition': 'greater_than', 'value': 65},\n",
    "#     {'column': 'systolic_bp', 'condition': 'greater_than', 'value': 140}\n",
    "# ]\n",
    "# 3. Apply the filter and count the results\n",
    "# print(f\"Patients over 65 AND high BP: {len(both_conditions)}\")\n",
    "#\n",
    "# 5. Alternative: Use in_range for age range:\n",
    "# 5. Create filter for age range 65-100\n",
    "# 6. Apply the filter and count the results\n",
    "filters = [{'column': 'age', 'condition': 'in_range', 'value': [65, 100]}]\n",
    "both_conditions = filter_data(high_bp, filters)\n",
    "print(f\"Patients over 65 AND high BP: {len(both_conditions)}\")"
   ]
  },
  {
   "cell_type": "code",
   "execution_count": 9,
   "metadata": {
    "execution": {
     "iopub.execute_input": "2025-10-28T02:02:28.815082Z",
     "iopub.status.busy": "2025-10-28T02:02:28.815006Z",
     "iopub.status.idle": "2025-10-28T02:02:28.818419Z",
     "shell.execute_reply": "2025-10-28T02:02:28.817874Z"
    }
   },
   "outputs": [
    {
     "name": "stdout",
     "output_type": "stream",
     "text": [
      "Patients from Site A or B: 1397\n"
     ]
    }
   ],
   "source": [
    "# TODO: Filter by site using .isin()\n",
    "# 1. Use the filter_data utility from Q3\n",
    "# 2. Create a filter for Site A or Site B\n",
    "# 3. Apply the filter and count the results\n",
    "# print(f\"Patients from Site A or B: {len(site_ab)}\")\n",
    "filters = [{'column': 'site', 'condition': 'in_list', 'value': ['Site A', 'Site B']}]\n",
    "site_ab = filter_data(df, filters)\n",
    "print(f\"Patients from Site A or B: {len(site_ab)}\")"
   ]
  },
  {
   "cell_type": "markdown",
   "metadata": {},
   "source": [
    "## Part 4: Value Counts and Grouping (5 points)\n",
    "\n",
    "1. Get value counts for the 'site' column\n",
    "2. Get value counts for the 'intervention_group' column  \n",
    "3. Create a crosstab of site vs intervention_group\n",
    "4. Calculate mean age by site\n",
    "5. Save the site value counts to `output/q4_site_counts.csv`"
   ]
  },
  {
   "cell_type": "code",
   "execution_count": 10,
   "metadata": {
    "execution": {
     "iopub.execute_input": "2025-10-28T02:02:28.820370Z",
     "iopub.status.busy": "2025-10-28T02:02:28.820220Z",
     "iopub.status.idle": "2025-10-28T02:02:28.837400Z",
     "shell.execute_reply": "2025-10-28T02:02:28.836820Z"
    }
   },
   "outputs": [
    {
     "name": "stdout",
     "output_type": "stream",
     "text": [
      "['site b' 'Site A' 'SITE C' 'Site D' 'site e' 'site a' 'SITE B' 'SITE A'\n",
      " 'SITE E' 'site d' 'Site E' 'site c' 'Site C' '  SITE D  ' '  Site B  '\n",
      " 'Site_D' 'SITE D' '  site a  ' 'Site B' '  site e  ' '  SITE B  '\n",
      " 'Site  A' '  Site  A  ' '  site d  ' '  site b  ' '  site c  '\n",
      " '  Site E  ' '  SITE E  ' '  SITE C  ' '  SITE A  ' '  Site A  '\n",
      " '  Site_D  ' '  Site C  ' '  Site D  ']\n",
      "['Control' 'CONTROL' '  treatment b  ' 'treatment b' 'Treatmen A'\n",
      " 'TreatmentA' 'treatment a' 'TREATMENT A' 'Treatment B' 'control' 'Contrl'\n",
      " 'Treatment A' 'TREATMENT B' '  control  ' '  TREATMENT A  '\n",
      " 'Treatment  B' '  TreatmentA  ' '  Contrl  ' '  TREATMENT B  '\n",
      " '  treatment a  ' '  Control  ' '  Treatmen A  ' '  Treatment  B  '\n",
      " '  Treatment A  ' '  Treatment B  ' '  CONTROL  ']\n"
     ]
    },
    {
     "data": {
      "text/html": [
       "<div>\n",
       "<style scoped>\n",
       "    .dataframe tbody tr th:only-of-type {\n",
       "        vertical-align: middle;\n",
       "    }\n",
       "\n",
       "    .dataframe tbody tr th {\n",
       "        vertical-align: top;\n",
       "    }\n",
       "\n",
       "    .dataframe thead th {\n",
       "        text-align: right;\n",
       "    }\n",
       "</style>\n",
       "<table border=\"1\" class=\"dataframe\">\n",
       "  <thead>\n",
       "    <tr style=\"text-align: right;\">\n",
       "      <th>intervention_group</th>\n",
       "      <th>control</th>\n",
       "      <th>treatment a</th>\n",
       "      <th>treatment b</th>\n",
       "    </tr>\n",
       "    <tr>\n",
       "      <th>site</th>\n",
       "      <th></th>\n",
       "      <th></th>\n",
       "      <th></th>\n",
       "    </tr>\n",
       "  </thead>\n",
       "  <tbody>\n",
       "    <tr>\n",
       "      <th>site a</th>\n",
       "      <td>1023</td>\n",
       "      <td>964</td>\n",
       "      <td>969</td>\n",
       "    </tr>\n",
       "    <tr>\n",
       "      <th>site b</th>\n",
       "      <td>780</td>\n",
       "      <td>834</td>\n",
       "      <td>839</td>\n",
       "    </tr>\n",
       "    <tr>\n",
       "      <th>site c</th>\n",
       "      <td>709</td>\n",
       "      <td>670</td>\n",
       "      <td>694</td>\n",
       "    </tr>\n",
       "    <tr>\n",
       "      <th>site d</th>\n",
       "      <td>490</td>\n",
       "      <td>522</td>\n",
       "      <td>489</td>\n",
       "    </tr>\n",
       "    <tr>\n",
       "      <th>site e</th>\n",
       "      <td>335</td>\n",
       "      <td>331</td>\n",
       "      <td>351</td>\n",
       "    </tr>\n",
       "  </tbody>\n",
       "</table>\n",
       "</div>"
      ],
      "text/plain": [
       "intervention_group  control  treatment a  treatment b\n",
       "site                                                 \n",
       "site a                 1023          964          969\n",
       "site b                  780          834          839\n",
       "site c                  709          670          694\n",
       "site d                  490          522          489\n",
       "site e                  335          331          351"
      ]
     },
     "metadata": {},
     "output_type": "display_data"
    },
    {
     "name": "stdout",
     "output_type": "stream",
     "text": [
      "site\n",
      "site a    56.364005\n",
      "site b    62.401957\n",
      "site c    57.312108\n",
      "site d    63.491006\n",
      "site e    57.064897\n",
      "Name: age, dtype: float64\n"
     ]
    }
   ],
   "source": [
    "# TODO: Value counts and analysis\n",
    "print(df['site'].unique())\n",
    "df['site'] = df['site'].str.lower().str.strip()\n",
    "df['site'] = df['site'].replace({'site  a': 'site a', 'site_d': 'site d'})\n",
    "print(df['intervention_group'].unique())\n",
    "\n",
    "df['intervention_group'] = df['intervention_group'].str.lower().str.strip()\n",
    "df['intervention_group'] = df['intervention_group'].replace({'contrl': 'control'})\n",
    "df['intervention_group'] = df['intervention_group'].replace(['treatmen a', 'treatmenta'], 'treatment a')\n",
    "df['intervention_group'] = df['intervention_group'].replace({'treatment  b': 'treatment b'})\n",
    "site_counts = df['site'].value_counts()\n",
    "intervention_counts = df['intervention_group'].value_counts()\n",
    "display(pd.crosstab(df['site'], df['intervention_group']))\n",
    "mean_age_by_site = df.groupby('site')['age'].mean()\n",
    "print(mean_age_by_site)"
   ]
  },
  {
   "cell_type": "code",
   "execution_count": 11,
   "metadata": {
    "execution": {
     "iopub.execute_input": "2025-10-28T02:02:28.838920Z",
     "iopub.status.busy": "2025-10-28T02:02:28.838811Z",
     "iopub.status.idle": "2025-10-28T02:02:28.841773Z",
     "shell.execute_reply": "2025-10-28T02:02:28.841342Z"
    }
   },
   "outputs": [],
   "source": [
    "# TODO: Save output\n",
    "# site_counts.to_csv('output/q4_site_counts.csv')\n",
    "site_counts.to_csv('output/q4_site_counts.csv')"
   ]
  },
  {
   "cell_type": "markdown",
   "metadata": {},
   "source": [
    "## Summary\n",
    "\n",
    "Write 2-3 sentences about what you learned from exploring this dataset."
   ]
  },
  {
   "cell_type": "markdown",
   "metadata": {},
   "source": [
    "**Your summary here:**\n",
    "\n",
    "TODO: Write your observations\n"
   ]
  },
  {
   "cell_type": "markdown",
   "metadata": {},
   "source": [
    "Raw data often contain many inconsistencies. Before any meaningful analysis can occur, it’s important to clean and standardize the dataset to ensure that the values are consistent and easy to work with."
   ]
  }
 ],
 "metadata": {
  "kernelspec": {
   "display_name": "mt (3.13.7)",
   "language": "python",
   "name": "python3"
  },
  "language_info": {
   "codemirror_mode": {
    "name": "ipython",
    "version": 3
   },
   "file_extension": ".py",
   "mimetype": "text/x-python",
   "name": "python",
   "nbconvert_exporter": "python",
   "pygments_lexer": "ipython3",
   "version": "3.13.7"
  }
 },
 "nbformat": 4,
 "nbformat_minor": 2
}
